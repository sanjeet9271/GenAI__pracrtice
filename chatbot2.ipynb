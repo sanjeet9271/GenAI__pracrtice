{
 "cells": [
  {
   "cell_type": "code",
   "execution_count": 6,
   "metadata": {},
   "outputs": [],
   "source": [
    "#Importing libraries\n",
    "import numpy as np\n",
    "import pandas as pd\n",
    "import tensorflow as tf"
   ]
  },
  {
   "cell_type": "code",
   "execution_count": 7,
   "metadata": {},
   "outputs": [
    {
     "name": "stdout",
     "output_type": "stream",
     "text": [
      "Collecting faiss-cpu\n",
      "  Using cached faiss_cpu-1.9.0.post1-cp311-cp311-win_amd64.whl (13.8 MB)\n",
      "Requirement already satisfied: numpy<3.0,>=1.25.0 in c:\\users\\skumar10\\appdata\\local\\programs\\python\\python311\\lib\\site-packages (from faiss-cpu) (2.2.1)\n",
      "Requirement already satisfied: packaging in c:\\users\\skumar10\\appdata\\roaming\\python\\python311\\site-packages (from faiss-cpu) (24.2)\n",
      "Installing collected packages: faiss-cpu\n",
      "Successfully installed faiss-cpu-1.9.0.post1\n"
     ]
    },
    {
     "name": "stderr",
     "output_type": "stream",
     "text": [
      "\n",
      "[notice] A new release of pip is available: 23.1.2 -> 24.3.1\n",
      "[notice] To update, run: python.exe -m pip install --upgrade pip\n"
     ]
    }
   ],
   "source": [
    "!pip install faiss-cpu"
   ]
  },
  {
   "cell_type": "code",
   "execution_count": 9,
   "metadata": {},
   "outputs": [
    {
     "name": "stdout",
     "output_type": "stream",
     "text": [
      "Collecting numpy==1.25.0\n",
      "  Downloading numpy-1.25.0-cp311-cp311-win_amd64.whl (15.0 MB)\n",
      "                                              0.0/15.0 MB ? eta -:--:--\n",
      "                                              0.2/15.0 MB 3.9 MB/s eta 0:00:04\n",
      "     -                                        0.5/15.0 MB 5.8 MB/s eta 0:00:03\n",
      "     --                                       0.8/15.0 MB 6.5 MB/s eta 0:00:03\n",
      "     --                                       1.0/15.0 MB 6.6 MB/s eta 0:00:03\n",
      "     --                                       1.0/15.0 MB 6.6 MB/s eta 0:00:03\n",
      "     --                                       1.0/15.0 MB 6.6 MB/s eta 0:00:03\n",
      "     --                                       1.0/15.0 MB 6.6 MB/s eta 0:00:03\n",
      "     --                                       1.0/15.0 MB 6.6 MB/s eta 0:00:03\n",
      "     ---                                      1.5/15.0 MB 3.4 MB/s eta 0:00:04\n",
      "     -----                                    1.9/15.0 MB 4.3 MB/s eta 0:00:04\n",
      "     -----                                    2.1/15.0 MB 4.4 MB/s eta 0:00:03\n",
      "     -----                                    2.1/15.0 MB 4.4 MB/s eta 0:00:03\n",
      "     -----                                    2.1/15.0 MB 4.4 MB/s eta 0:00:03\n",
      "     -----                                    2.1/15.0 MB 4.4 MB/s eta 0:00:03\n",
      "     -----                                    2.1/15.0 MB 4.4 MB/s eta 0:00:03\n",
      "     -----                                    2.1/15.0 MB 4.4 MB/s eta 0:00:03\n",
      "     -----                                    2.3/15.0 MB 2.8 MB/s eta 0:00:05\n",
      "     -------                                  2.8/15.0 MB 3.3 MB/s eta 0:00:04\n",
      "     --------                                 3.1/15.0 MB 3.6 MB/s eta 0:00:04\n",
      "     --------                                 3.1/15.0 MB 3.6 MB/s eta 0:00:04\n",
      "     --------                                 3.1/15.0 MB 3.6 MB/s eta 0:00:04\n",
      "     --------                                 3.1/15.0 MB 3.6 MB/s eta 0:00:04\n",
      "     ---------                                3.5/15.0 MB 3.2 MB/s eta 0:00:04\n",
      "     -----------                              4.2/15.0 MB 3.7 MB/s eta 0:00:03\n",
      "     -----------                              4.2/15.0 MB 3.7 MB/s eta 0:00:03\n",
      "     -----------                              4.2/15.0 MB 3.7 MB/s eta 0:00:03\n",
      "     -----------                              4.2/15.0 MB 3.7 MB/s eta 0:00:03\n",
      "     -----------                              4.2/15.0 MB 3.7 MB/s eta 0:00:03\n",
      "     -----------                              4.2/15.0 MB 3.7 MB/s eta 0:00:03\n",
      "     -----------                              4.2/15.0 MB 3.7 MB/s eta 0:00:03\n",
      "     -----------                              4.2/15.0 MB 3.7 MB/s eta 0:00:03\n",
      "     -----------                              4.2/15.0 MB 3.7 MB/s eta 0:00:03\n",
      "     ------------                             4.8/15.0 MB 3.0 MB/s eta 0:00:04\n",
      "     -------------                            5.2/15.0 MB 3.3 MB/s eta 0:00:03\n",
      "     -------------                            5.2/15.0 MB 3.3 MB/s eta 0:00:03\n",
      "     -------------                            5.2/15.0 MB 3.3 MB/s eta 0:00:03\n",
      "     -------------                            5.2/15.0 MB 3.3 MB/s eta 0:00:03\n",
      "     -------------                            5.2/15.0 MB 3.3 MB/s eta 0:00:03\n",
      "     ---------------                          5.9/15.0 MB 3.1 MB/s eta 0:00:03\n",
      "     ----------------                         6.3/15.0 MB 3.3 MB/s eta 0:00:03\n",
      "     ----------------                         6.3/15.0 MB 3.3 MB/s eta 0:00:03\n",
      "     ----------------                         6.3/15.0 MB 3.3 MB/s eta 0:00:03\n",
      "     ----------------                         6.3/15.0 MB 3.3 MB/s eta 0:00:03\n",
      "     ----------------                         6.3/15.0 MB 3.3 MB/s eta 0:00:03\n",
      "     ----------------                         6.3/15.0 MB 3.3 MB/s eta 0:00:03\n",
      "     ----------------                         6.3/15.0 MB 3.3 MB/s eta 0:00:03\n",
      "     -----------------                        6.5/15.0 MB 2.9 MB/s eta 0:00:03\n",
      "     -------------------                      7.3/15.0 MB 3.2 MB/s eta 0:00:03\n",
      "     -------------------                      7.3/15.0 MB 3.2 MB/s eta 0:00:03\n",
      "     -------------------                      7.3/15.0 MB 3.2 MB/s eta 0:00:03\n",
      "     -------------------                      7.3/15.0 MB 3.2 MB/s eta 0:00:03\n",
      "     -------------------                      7.3/15.0 MB 3.2 MB/s eta 0:00:03\n",
      "     -------------------                      7.4/15.0 MB 2.9 MB/s eta 0:00:03\n",
      "     ----------------------                   8.4/15.0 MB 3.3 MB/s eta 0:00:03\n",
      "     ----------------------                   8.4/15.0 MB 3.3 MB/s eta 0:00:03\n",
      "     ----------------------                   8.4/15.0 MB 3.3 MB/s eta 0:00:03\n",
      "     ----------------------                   8.4/15.0 MB 3.3 MB/s eta 0:00:03\n",
      "     ----------------------                   8.4/15.0 MB 3.3 MB/s eta 0:00:03\n",
      "     ----------------------                   8.5/15.0 MB 3.0 MB/s eta 0:00:03\n",
      "     -------------------------                9.4/15.0 MB 3.3 MB/s eta 0:00:02\n",
      "     -------------------------                9.4/15.0 MB 3.3 MB/s eta 0:00:02\n",
      "     -------------------------                9.4/15.0 MB 3.3 MB/s eta 0:00:02\n",
      "     -------------------------                9.4/15.0 MB 3.3 MB/s eta 0:00:02\n",
      "     -------------------------                9.4/15.0 MB 3.3 MB/s eta 0:00:02\n",
      "     -------------------------                9.4/15.0 MB 3.3 MB/s eta 0:00:02\n",
      "     ---------------------------              10.5/15.0 MB 3.3 MB/s eta 0:00:02\n",
      "     ---------------------------              10.5/15.0 MB 3.3 MB/s eta 0:00:02\n",
      "     ---------------------------              10.5/15.0 MB 3.3 MB/s eta 0:00:02\n",
      "     ---------------------------              10.5/15.0 MB 3.3 MB/s eta 0:00:02\n",
      "     ---------------------------              10.5/15.0 MB 3.3 MB/s eta 0:00:02\n",
      "     ---------------------------              10.5/15.0 MB 3.3 MB/s eta 0:00:02\n",
      "     ------------------------------           11.5/15.0 MB 3.4 MB/s eta 0:00:02\n",
      "     ------------------------------           11.5/15.0 MB 3.4 MB/s eta 0:00:02\n",
      "     ------------------------------           11.5/15.0 MB 3.4 MB/s eta 0:00:02\n",
      "     ------------------------------           11.5/15.0 MB 3.4 MB/s eta 0:00:02\n",
      "     ------------------------------           11.5/15.0 MB 3.4 MB/s eta 0:00:02\n",
      "     ------------------------------           11.5/15.0 MB 3.4 MB/s eta 0:00:02\n",
      "     ---------------------------------        12.7/15.0 MB 3.6 MB/s eta 0:00:01\n",
      "     ------------------------------------     13.6/15.0 MB 3.9 MB/s eta 0:00:01\n",
      "     ------------------------------------     13.6/15.0 MB 3.9 MB/s eta 0:00:01\n",
      "     ------------------------------------     13.6/15.0 MB 3.9 MB/s eta 0:00:01\n",
      "     ------------------------------------     13.6/15.0 MB 3.9 MB/s eta 0:00:01\n",
      "     ------------------------------------     13.6/15.0 MB 3.9 MB/s eta 0:00:01\n",
      "     --------------------------------------   14.6/15.0 MB 4.2 MB/s eta 0:00:01\n",
      "     ---------------------------------------  14.7/15.0 MB 4.2 MB/s eta 0:00:01\n",
      "     ---------------------------------------  14.7/15.0 MB 4.2 MB/s eta 0:00:01\n",
      "     ---------------------------------------  14.7/15.0 MB 4.2 MB/s eta 0:00:01\n",
      "     ---------------------------------------  14.7/15.0 MB 4.2 MB/s eta 0:00:01\n",
      "     ---------------------------------------  14.7/15.0 MB 4.2 MB/s eta 0:00:01\n",
      "     ---------------------------------------  14.7/15.0 MB 4.2 MB/s eta 0:00:01\n",
      "     ---------------------------------------  14.7/15.0 MB 4.2 MB/s eta 0:00:01\n",
      "     ---------------------------------------  15.0/15.0 MB 3.7 MB/s eta 0:00:01\n",
      "     ---------------------------------------- 15.0/15.0 MB 3.7 MB/s eta 0:00:00\n",
      "Installing collected packages: numpy\n",
      "  Attempting uninstall: numpy\n",
      "    Found existing installation: numpy 2.2.1\n",
      "    Uninstalling numpy-2.2.1:\n",
      "      Successfully uninstalled numpy-2.2.1\n",
      "Successfully installed numpy-1.25.0\n"
     ]
    },
    {
     "name": "stderr",
     "output_type": "stream",
     "text": [
      "ERROR: pip's dependency resolver does not currently take into account all the packages that are installed. This behaviour is the source of the following dependency conflicts.\n",
      "tensorflow-intel 2.18.0 requires numpy<2.1.0,>=1.26.0, but you have numpy 1.25.0 which is incompatible.\n",
      "\n",
      "[notice] A new release of pip is available: 23.1.2 -> 24.3.1\n",
      "[notice] To update, run: python.exe -m pip install --upgrade pip\n"
     ]
    }
   ],
   "source": [
    "!pip install numpy==1.25.0"
   ]
  },
  {
   "cell_type": "code",
   "execution_count": 19,
   "metadata": {},
   "outputs": [
    {
     "name": "stdout",
     "output_type": "stream",
     "text": [
      "Dataset length: 149\n"
     ]
    },
    {
     "name": "stderr",
     "output_type": "stream",
     "text": [
      "Input length of input_ids is 251, but `max_length` is set to 100. This can lead to unexpected behavior. You should consider increasing `max_new_tokens`.\n"
     ]
    },
    {
     "name": "stdout",
     "output_type": "stream",
     "text": [
      "Embeddings shape: (149, 384)\n",
      "AI in the Business  Artificial Intelligence (AI) Revolution Three key attributes of AI technology. The simulation of human intelligence by machines can infer a fast solution for the problems that are often faced by humanity. AI is backed by advanced data analytics and machine learning, which means AI can learn and gain new insights as it keeps feeding on new data. With proper input, AI could come up with prompt and accurate decisions. In addition to that, the intelligence attribute of AI promotes productivity and reduces dependency on human support which makes AI highly autonomous and a convenient tool to have. Intentionality is often deemed as the technical and ontological attributes of computer programs that derived from the algorithms and knowledge engineering. This attribute can be interpreted as AIâ€™s capability of delivering insights from the real time information and reacting in the way similar to its creatorsâ€™ and usersâ€™. The responses usually strongly reflect the social context that creator and users are in. Additionally, with development of data ingestion, storage capacity, processing speed and analytic techniques, AI gets more capable of responding to the issues with increasing sophistication. This very much differentiates AI with the fundamental function of machines that merely carry out predetermined routines.Can AI come up with prompt and desicisons?\n",
      "\n"
     ]
    }
   ],
   "source": [
    "from transformers import GPT2LMHeadModel, GPT2Tokenizer, AutoTokenizer, AutoModel\n",
    "import faiss\n",
    "import torch\n",
    "\n",
    "tokenizer = GPT2Tokenizer.from_pretrained(\"gpt2\")\n",
    "gpt2_model = GPT2LMHeadModel.from_pretrained(\"gpt2\")\n",
    "embedding_tokenizer = AutoTokenizer.from_pretrained(\"sentence-transformers/all-MiniLM-L6-v2\")\n",
    "embedding_model = AutoModel.from_pretrained(\"sentence-transformers/all-MiniLM-L6-v2\")\n",
    "\n",
    "tokenizer.pad_token = tokenizer.eos_token\n",
    "\n",
    "def embed_texts(texts, max_length=512):\n",
    "    inputs = embedding_tokenizer(texts, return_tensors='pt', padding=True, truncation=True, max_length=max_length)\n",
    "    with torch.no_grad():\n",
    "        outputs = embedding_model(**inputs)\n",
    "        if hasattr(outputs, 'pooler_output'):\n",
    "            embeddings = outputs.pooler_output\n",
    "        elif hasattr(outputs, 'last_hidden_state'):\n",
    "            embeddings = outputs.last_hidden_state.mean(dim=1)\n",
    "        else:\n",
    "            raise ValueError(\"The model output does not have 'pooler_output' or 'last_hidden_state'\")\n",
    "    return embeddings.numpy()\n",
    "\n",
    "dataset = []\n",
    "with open('dataset.txt', 'r') as file:\n",
    "    content = file.read()\n",
    "    dataset = content.split('\\n')  \n",
    "\n",
    "if len(dataset) < 2:\n",
    "    raise ValueError(\"The dataset must contain at least two documents.\")\n",
    "\n",
    "print(f\"Dataset length: {len(dataset)}\")\n",
    "\n",
    "embeddings = embed_texts(dataset)\n",
    "\n",
    "print(f\"Embeddings shape: {embeddings.shape}\")\n",
    "\n",
    "index = faiss.IndexFlatL2(embeddings.shape[1])\n",
    "index.add(embeddings)\n",
    "\n",
    "def retrieve(query, k=5):\n",
    "    query_embedding = embed_texts([query])\n",
    "    distances, indices = index.search(query_embedding, k)\n",
    "    return [dataset[i] for i in indices[0] if 0 <= i < len(dataset)]\n",
    "\n",
    "def generate_response(query):\n",
    "    retrieved_docs = retrieve(query)\n",
    "    context = \" \".join(retrieved_docs)\n",
    "    input_ids = tokenizer.encode(context + tokenizer.eos_token + query, return_tensors='pt', max_length=1024, truncation=True)\n",
    "    output = gpt2_model.generate(input_ids, max_length=100, num_return_sequences=1, \n",
    "                                 pad_token_id=tokenizer.eos_token_id, \n",
    "                                 temperature=0.7, top_p=0.9, top_k=50)\n",
    "    response = tokenizer.decode(output[0], skip_special_tokens=True)\n",
    "    return response\n",
    "\n"
   ]
  },
  {
   "cell_type": "code",
   "execution_count": 22,
   "metadata": {},
   "outputs": [
    {
     "name": "stderr",
     "output_type": "stream",
     "text": [
      "Input length of input_ids is 264, but `max_length` is set to 100. This can lead to unexpected behavior. You should consider increasing `max_new_tokens`.\n"
     ]
    },
    {
     "name": "stdout",
     "output_type": "stream",
     "text": [
      "Intentionality is often deemed as the technical and ontological attributes of computer programs that derived from the algorithms and knowledge engineering. This attribute can be interpreted as AIâ€™s capability of delivering insights from the real time information and reacting in the way similar to its creatorsâ€™ and usersâ€™. The responses usually strongly reflect the social context that creator and users are in. Additionally, with development of data ingestion, storage capacity, processing speed and analytic techniques, AI gets more capable of responding to the issues with increasing sophistication. This very much differentiates AI with the fundamental function of machines that merely carry out predetermined routines. Intentionality Undoubtedly, the artificial intelligence revolutions had profoundly impacted the way businesses operate. The most common practises are the automation of repetitive tasks that require less human input. However, with the consistent improvement of algorithms, AI technology is no longer only limited to the capability of expanding productivity, but also becomes a necessary tool in engaging customers, providing service excellence, and driving innovation. Here are several industrial scenarios to demonstrate how AI transformed the nature and scope of business activities. hopefully it will.\thow come? yes, and i hope that it does.\twhy is that?Intentionality is often deemed as the technical and ontological attributes of computer programs is this true?\n",
      "\n"
     ]
    }
   ],
   "source": [
    "query = \"Intentionality is often deemed as the technical and ontological attributes of computer programs is this true?\"\n",
    "response = generate_response(query)\n",
    "print(response)"
   ]
  }
 ],
 "metadata": {
  "kernelspec": {
   "display_name": "Python 3",
   "language": "python",
   "name": "python3"
  },
  "language_info": {
   "codemirror_mode": {
    "name": "ipython",
    "version": 3
   },
   "file_extension": ".py",
   "mimetype": "text/x-python",
   "name": "python",
   "nbconvert_exporter": "python",
   "pygments_lexer": "ipython3",
   "version": "3.11.0"
  }
 },
 "nbformat": 4,
 "nbformat_minor": 2
}
